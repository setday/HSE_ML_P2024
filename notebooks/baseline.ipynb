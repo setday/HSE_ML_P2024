{
 "cells": [
  {
   "cell_type": "code",
   "execution_count": null,
   "metadata": {},
   "outputs": [],
   "source": [
    "%cd ..\n",
    "import gym\n",
    "import gym_game\n",
    "env = gym.make('Parkme')"
   ]
  },
  {
   "cell_type": "code",
   "execution_count": null,
   "metadata": {},
   "outputs": [],
   "source": [
    "# %pip install shimmy>=0.2.1"
   ]
  },
  {
   "cell_type": "code",
   "execution_count": null,
   "metadata": {},
   "outputs": [],
   "source": [
    "from stable_baselines3 import PPO, DQN, A2C\n",
    "def load_model(model_type, policy_type, env, path=None):\n",
    "    if model_type == 'PPO':\n",
    "        model = PPO(policy_type, env, verbose=0)\n",
    "    elif model_type == 'DQN':\n",
    "        model = DQN(policy_type, env, verbose=0)\n",
    "    elif model_type == 'A2C':\n",
    "        model = A2C(policy_type, env, verbose=0)\n",
    "    if path is not None:\n",
    "        model.set_parameters(path)\n",
    "    return model\n",
    "model = load_model('PPO', 'MlpPolicy', env)"
   ]
  },
  {
   "cell_type": "code",
   "execution_count": null,
   "metadata": {},
   "outputs": [],
   "source": [
    "# !pip install stable_baselines[extra]\n",
    "from tqdm import tqdm\n",
    "def train(model, n_epochs=30, total_timesteps=3000, path=None):\n",
    "    for _ in tqdm(range(n_epochs)):\n",
    "        model = model.learn(total_timesteps=total_timesteps)\n",
    "        if path is not None:\n",
    "            model.save(path)\n",
    "    return model    \n",
    "model = train(model, path='models_bin/PPO', n_epochs=500, total_timesteps=3000)"
   ]
  },
  {
   "cell_type": "code",
   "execution_count": null,
   "metadata": {},
   "outputs": [],
   "source": [
    "model.save('models_bin/PPO')"
   ]
  },
  {
   "cell_type": "markdown",
   "metadata": {},
   "source": [
    "Не помню ни-че-го. Результаты все примерно одинаковые и сопоставимые с СЕМ. Лучше всего тоже было при втором варианте функции награды - машинка тоже поворачивалась на нужный угол и колебалась взад-вперед"
   ]
  }
 ],
 "metadata": {
  "kernelspec": {
   "display_name": "Python 3",
   "language": "python",
   "name": "python3"
  },
  "language_info": {
   "codemirror_mode": {
    "name": "ipython",
    "version": 3
   },
   "file_extension": ".py",
   "mimetype": "text/x-python",
   "name": "python",
   "nbconvert_exporter": "python",
   "pygments_lexer": "ipython3",
   "version": "3.10.12"
  }
 },
 "nbformat": 4,
 "nbformat_minor": 2
}
