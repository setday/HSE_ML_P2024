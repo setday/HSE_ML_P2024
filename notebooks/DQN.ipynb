{
  "cells": [
    {
      "cell_type": "code",
      "execution_count": 1,
      "id": "b97e03a4",
      "metadata": {
        "id": "b97e03a4"
      },
      "outputs": [],
      "source": [
        "import torch\n",
        "class DQNPolicy:\n",
        "    def __init__(self, n_actions, station_space, n_hidden = 128, lr=0.005):\n",
        "        super().__init__()\n",
        "        self.n_actions = n_actions\n",
        "\n",
        "        self.dqn = torch.nn.Sequential(\n",
        "            torch.nn.Linear(station_space, n_hidden),\n",
        "            torch.nn.ReLU(),\n",
        "            torch.nn.Linear(n_hidden, n_actions)\n",
        "        )\n",
        "        self.loss = torch.nn.MSELoss()\n",
        "        self.optimizer = torch.optim.Adam(self.dqn.parameters(), lr=0.001)\n",
        "\n",
        "    def make_action(self, state, eps=0):\n",
        "        with torch.no_grad():\n",
        "            best_action = torch.argmax(self.dqn(torch.Tensor(state)))\n",
        "            if torch.rand((1,)).item() > eps:\n",
        "                return best_action.item()\n",
        "            return torch.randint(self.n_actions, (1,)).item()\n",
        "\n",
        "\n",
        "    def update(self, state, next_state, action, reward, gamma=1):\n",
        "        q_values = self.dqn(torch.Tensor(state))\n",
        "        q_values_next = self.dqn(torch.Tensor(next_state))\n",
        "\n",
        "        q_values_should_be = self.dqn(torch.Tensor(state)).tolist().copy()\n",
        "        q_values_should_be[action] = reward + gamma*torch.max(q_values_next).item()\n",
        "\n",
        "        self.optimizer.zero_grad()\n",
        "        self.loss(q_values, torch.Tensor(q_values_should_be)).backward()\n",
        "        self.optimizer.step()"
      ]
    },
    {
      "cell_type": "code",
      "execution_count": 2,
      "id": "f992b946",
      "metadata": {
        "id": "f992b946"
      },
      "outputs": [],
      "source": [
        "import tqdm as tqdm\n",
        "import matplotlib.pyplot as plt\n",
        "def learn_policy(env, n_episodes, policy, t_max=500):\n",
        "    total_rewards = []\n",
        "\n",
        "    for _ in tqdm(range(n_episodes)):\n",
        "        state, _ = env.reset()\n",
        "        is_done = False\n",
        "        total_reward = 0\n",
        "        # t = 0\n",
        "        while not is_done: # and t < t_max:\n",
        "            action = policy.make_action(state, eps=0.1)\n",
        "            next_state, reward, is_done, truncated, _ = env.step(action)\n",
        "            total_reward += reward\n",
        "\n",
        "            policy.update(state, next_state, action, reward)\n",
        "            state = next_state\n",
        "            # t += 1\n",
        "        total_rewards.append(total_reward)\n",
        "        plt.plot(total_rewards)\n",
        "    return total_rewards"
      ]
    },
    {
      "cell_type": "code",
      "execution_count": 3,
      "id": "a05be015",
      "metadata": {
        "id": "a05be015"
      },
      "outputs": [
        {
          "name": "stdout",
          "output_type": "stream",
          "text": [
            "5 7\n"
          ]
        },
        {
          "name": "stderr",
          "output_type": "stream",
          "text": [
            "/usr/local/lib/python3.10/dist-packages/gym/utils/passive_env_checker.py:141: UserWarning: \u001b[33mWARN: The obs returned by the `reset()` method was expecting numpy array dtype to be float32, actual type: float64\u001b[0m\n",
            "  logger.warn(\n",
            "/usr/local/lib/python3.10/dist-packages/gym/utils/passive_env_checker.py:165: UserWarning: \u001b[33mWARN: The obs returned by the `reset()` method is not within the observation space.\u001b[0m\n",
            "  logger.warn(f\"{pre} is not within the observation space.\")\n"
          ]
        }
      ],
      "source": [
        "import gym\n",
        "import gym_game\n",
        "env = gym.make('Parkme')\n",
        "reset, _ = env.reset()\n",
        "n_actions = env.action_space.n\n",
        "states_dim = env.observation_space.shape[0]\n",
        "print(n_actions, states_dim)\n",
        "policy = DQNPolicy(env.action_space.n, states_dim)"
      ]
    },
    {
      "cell_type": "code",
      "execution_count": 4,
      "id": "6fc66790",
      "metadata": {
        "id": "6fc66790"
      },
      "outputs": [
        {
          "name": "stderr",
          "output_type": "stream",
          "text": [
            "  0%|          | 0/1000 [00:00<?, ?it/s]/usr/local/lib/python3.10/dist-packages/gym/utils/passive_env_checker.py:141: UserWarning: \u001b[33mWARN: The obs returned by the `step()` method was expecting numpy array dtype to be float32, actual type: float64\u001b[0m\n",
            "  logger.warn(\n",
            "/usr/local/lib/python3.10/dist-packages/gym/utils/passive_env_checker.py:165: UserWarning: \u001b[33mWARN: The obs returned by the `step()` method is not within the observation space.\u001b[0m\n",
            "  logger.warn(f\"{pre} is not within the observation space.\")\n",
            "100%|██████████| 1000/1000 [09:34<00:00,  1.74it/s]\n"
          ]
        },
        {
          "data": {
            "image/png": "[encoded data removed]",
            "text/plain": [
              "<Figure size 640x480 with 1 Axes>"
            ]
          },
          "metadata": {},
          "output_type": "display_data"
        }
      ],
      "source": [
        "total_rewards = learn_policy(env, 1000, policy)"
      ]
    },
    {
      "cell_type": "code",
      "execution_count": 5,
      "id": "ebda659c",
      "metadata": {},
      "outputs": [],
      "source": [
        "torch.save(policy.dqn.state_dict(), 'torch.pt')"
      ]
    }
  ],
  "metadata": {
    "colab": {
      "provenance": []
    },
    "kernelspec": {
      "display_name": "Python 3 (ipykernel)",
      "language": "python",
      "name": "python3"
    },
    "language_info": {
      "codemirror_mode": {
        "name": "ipython",
        "version": 3
      },
      "file_extension": ".py",
      "mimetype": "text/x-python",
      "name": "python",
      "nbconvert_exporter": "python",
      "pygments_lexer": "ipython3",
      "version": "3.10.12"
    }
  },
  "nbformat": 4,
  "nbformat_minor": 5
}
