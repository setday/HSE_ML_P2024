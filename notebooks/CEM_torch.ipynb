{
 "cells": [
  {
   "cell_type": "code",
   "execution_count": 1,
   "metadata": {},
   "outputs": [
    {
     "name": "stdout",
     "output_type": "stream",
     "text": [
      "/home/yvovaa/fork/HSE_ML_P2024\n",
      "9 7\n"
     ]
    },
    {
     "name": "stderr",
     "output_type": "stream",
     "text": [
      "/usr/local/lib/python3.10/dist-packages/gym/utils/passive_env_checker.py:141: UserWarning: \u001b[33mWARN: The obs returned by the `reset()` method was expecting numpy array dtype to be float32, actual type: float64\u001b[0m\n",
      "  logger.warn(\n",
      "/usr/local/lib/python3.10/dist-packages/gym/utils/passive_env_checker.py:165: UserWarning: \u001b[33mWARN: The obs returned by the `reset()` method is not within the observation space.\u001b[0m\n",
      "  logger.warn(f\"{pre} is not within the observation space.\")\n"
     ]
    }
   ],
   "source": [
    "%cd ..\n",
    "import gym\n",
    "import gym_game\n",
    "import matplotlib.pyplot as plt\n",
    "env = gym.make('Parkme')\n",
    "reset, _ = env.reset()\n",
    "n_actions = env.action_space.n\n",
    "states_dim = env.observation_space.shape[0]\n",
    "print(n_actions, states_dim)"
   ]
  },
  {
   "cell_type": "code",
   "execution_count": 2,
   "metadata": {},
   "outputs": [],
   "source": [
    "import torch.nn as nn\n",
    "from torch.optim import Adam\n",
    "hidden_dim = 128\n",
    "model = nn.Sequential(\n",
    "    nn.Linear(states_dim, hidden_dim),\n",
    "    nn.Tanh(),\n",
    "    nn.Linear(hidden_dim, n_actions),\n",
    "    nn.Softmax()\n",
    ")\n",
    "optimizer = Adam(model.parameters())"
   ]
  },
  {
   "cell_type": "code",
   "execution_count": 3,
   "metadata": {},
   "outputs": [],
   "source": [
    "import numpy as np\n",
    "import random\n",
    "import torch\n",
    "def generate_session(env, agent, exploration_rate=0.8):\n",
    "    states, actions = [], []\n",
    "    total_reward = 0\n",
    "    s, _ = env.reset()\n",
    "    for _ in range(50000):\n",
    "        if random.random() > exploration_rate:\n",
    "            action = np.random.choice(list(range(n_actions)))\n",
    "        else:\n",
    "            with torch.no_grad():\n",
    "                probs = agent(torch.FloatTensor(s))\n",
    "                action = np.random.choice(list(range(n_actions)), p = probs.numpy())    \n",
    "        new_s, r, terminated, truncated, _ = env.step(action)\n",
    "        states.append(s)\n",
    "        actions.append(action)\n",
    "        total_reward += r\n",
    "\n",
    "        s = new_s\n",
    "        if terminated or truncated:\n",
    "            break\n",
    "    return states, actions, total_reward"
   ]
  },
  {
   "cell_type": "code",
   "execution_count": 4,
   "metadata": {},
   "outputs": [],
   "source": [
    "def select_elites(states_batch, actions_batch, rewards_batch, percentile):\n",
    "    reward_threshold = np.percentile(rewards_batch, percentile)\n",
    "    elite_states = []\n",
    "    elite_actions = []\n",
    "    for i in range(len(states_batch)):\n",
    "        if rewards_batch[i] >= reward_threshold:\n",
    "            elite_states.extend(states_batch[i])\n",
    "            elite_actions.extend(actions_batch[i])\n",
    "\n",
    "    return elite_states, elite_actions"
   ]
  },
  {
   "cell_type": "code",
   "execution_count": 5,
   "metadata": {},
   "outputs": [
    {
     "name": "stderr",
     "output_type": "stream",
     "text": [
      "  0%|          | 0/300 [00:00<?, ?it/s]/home/yvovaa/.local/lib/python3.10/site-packages/torch/nn/modules/container.py:204: UserWarning: Implicit dimension choice for softmax has been deprecated. Change the call to include dim=X as an argument.\n",
      "  input = module(input)\n",
      "/usr/local/lib/python3.10/dist-packages/gym/utils/passive_env_checker.py:141: UserWarning: \u001b[33mWARN: The obs returned by the `step()` method was expecting numpy array dtype to be float32, actual type: float64\u001b[0m\n",
      "  logger.warn(\n",
      "/usr/local/lib/python3.10/dist-packages/gym/utils/passive_env_checker.py:165: UserWarning: \u001b[33mWARN: The obs returned by the `step()` method is not within the observation space.\u001b[0m\n",
      "  logger.warn(f\"{pre} is not within the observation space.\")\n",
      "100%|██████████| 1/1 [00:00<00:00,  1.44it/s]"
     ]
    },
    {
     "ename": "",
     "evalue": "",
     "output_type": "error",
     "traceback": [
      "\u001b[1;31mThe Kernel crashed while executing code in the current cell or a previous cell. \n",
      "\u001b[1;31mPlease review the code in the cell(s) to identify a possible cause of the failure. \n",
      "\u001b[1;31mClick <a href='https://aka.ms/vscodeJupyterKernelCrash'>here</a> for more info. \n",
      "\u001b[1;31mView Jupyter <a href='command:jupyter.viewOutput'>log</a> for further details."
     ]
    }
   ],
   "source": [
    "%%time\n",
    "from torch.nn import CrossEntropyLoss\n",
    "from tqdm import tqdm\n",
    "criterion = CrossEntropyLoss()\n",
    "percentile = 90\n",
    "log = []\n",
    "n_epochs = 300\n",
    "best_reward = 0\n",
    "for i in tqdm(range(n_epochs)):\n",
    "    sessions = [generate_session(env, model) for _ in tqdm(range(100))]\n",
    "    states_batch, actions_batch, rewards_batch = zip(*sessions)\n",
    "    elite_states, elite_actions = select_elites(states_batch, actions_batch, rewards_batch, percentile)\n",
    "    outps = model(torch.FloatTensor(elite_states))\n",
    "    loss = criterion(outps.float(), torch.FloatTensor(elite_actions))\n",
    "    optimizer.zero_grad()\n",
    "    loss.backward()\n",
    "    optimizer.step()\n",
    "    if np.mean(rewards_batch) > best_reward:\n",
    "        best_reward = np.mean(rewards_batch)\n",
    "    show_progress(\n",
    "        rewards_batch, log, percentile, reward_range=[0, max(0, np.max(rewards_batch))]\n",
    "    )"
   ]
  }
 ],
 "metadata": {
  "kernelspec": {
   "display_name": "Python 3",
   "language": "python",
   "name": "python3"
  },
  "language_info": {
   "codemirror_mode": {
    "name": "ipython",
    "version": 3
   },
   "file_extension": ".py",
   "mimetype": "text/x-python",
   "name": "python",
   "nbconvert_exporter": "python",
   "pygments_lexer": "ipython3",
   "version": "3.10.12"
  }
 },
 "nbformat": 4,
 "nbformat_minor": 2
}
