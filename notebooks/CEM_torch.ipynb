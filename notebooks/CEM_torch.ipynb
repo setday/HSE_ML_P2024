{
 "cells": [
  {
   "cell_type": "code",
   "execution_count": 1,
   "metadata": {},
   "outputs": [
    {
     "name": "stdout",
     "output_type": "stream",
     "text": [
      "/home/yvovaa/fork/HSE_ML_P2024\n",
      "9 7\n"
     ]
    },
    {
     "name": "stderr",
     "output_type": "stream",
     "text": [
      "/usr/local/lib/python3.10/dist-packages/gym/utils/passive_env_checker.py:141: UserWarning: \u001b[33mWARN: The obs returned by the `reset()` method was expecting numpy array dtype to be float32, actual type: float64\u001b[0m\n",
      "  logger.warn(\n",
      "/usr/local/lib/python3.10/dist-packages/gym/utils/passive_env_checker.py:165: UserWarning: \u001b[33mWARN: The obs returned by the `reset()` method is not within the observation space.\u001b[0m\n",
      "  logger.warn(f\"{pre} is not within the observation space.\")\n"
     ]
    }
   ],
   "source": [
    "%cd ..\n",
    "import gym\n",
    "import gym_game\n",
    "import matplotlib.pyplot as plt\n",
    "env = gym.make('Parkme')\n",
    "reset, _ = env.reset()\n",
    "n_actions = env.action_space.n\n",
    "states_dim = env.observation_space.shape[0]\n",
    "print(n_actions, states_dim)"
   ]
  },
  {
   "cell_type": "code",
   "execution_count": 2,
   "metadata": {},
   "outputs": [],
   "source": [
    "import torch.nn as nn\n",
    "import torch\n",
    "from torch.optim import Adam\n",
    "class MyGRU(nn.Module):\n",
    "    def __init__(self, states_dim, actions_dim, hidden_dim) -> None:\n",
    "        super().__init__()\n",
    "        self.states_dim = states_dim\n",
    "        self.hidden_dim = hidden_dim\n",
    "        self.gru = nn.GRU(\n",
    "            states_dim,\n",
    "            hidden_dim,\n",
    "            batch_first=True\n",
    "        )\n",
    "        self.fc = nn.Linear(hidden_dim, actions_dim)\n",
    "        self.softmax = nn.Softmax(dim=1)\n",
    "\n",
    "    def forward(self, x, hidden):\n",
    "        output, hidden = self.gru(x, hidden)\n",
    "        output = self.fc(output)\n",
    "        output = self.softmax(output)\n",
    "        return output, hidden\n",
    "    \n",
    "        \n"
   ]
  },
  {
   "cell_type": "code",
   "execution_count": 3,
   "metadata": {},
   "outputs": [],
   "source": [
    "hidden_dim = 128\n",
    "model = MyGRU(states_dim, n_actions, hidden_dim)\n",
    "optimizer = Adam(model.parameters())"
   ]
  },
  {
   "cell_type": "code",
   "execution_count": 4,
   "metadata": {},
   "outputs": [],
   "source": [
    "import numpy as np\n",
    "import random\n",
    "def generate_session(env, agent, exploration_rate=0.8):\n",
    "    states, actions = [], []\n",
    "    total_reward = 0\n",
    "    s, _ = env.reset()\n",
    "    hidden = torch.zeros(1, 128)\n",
    "    for step in range(3000):\n",
    "        if random.random() > exploration_rate:\n",
    "            action = np.random.choice(list(range(n_actions)))\n",
    "        else:\n",
    "            with torch.no_grad():\n",
    "                probs, hidden = agent(torch.FloatTensor(s).unsqueeze(0), hidden)\n",
    "                action = torch.argmax(probs.squeeze(0)).item()   \n",
    "        new_s, r, terminated, truncated, _ = env.step(action)\n",
    "        states.append(s)\n",
    "        actions.append(action)\n",
    "        total_reward += r\n",
    "\n",
    "        s = new_s\n",
    "        if terminated or truncated:\n",
    "            return states, actions, total_reward / step \n",
    "    return states, actions, total_reward / 3000"
   ]
  },
  {
   "cell_type": "code",
   "execution_count": 5,
   "metadata": {},
   "outputs": [],
   "source": [
    "def select_elites(states_batch, actions_batch, rewards_batch, percentile):\n",
    "    reward_threshold = np.percentile(rewards_batch, percentile)\n",
    "    condition = np.array(rewards_batch) >= reward_threshold\n",
    "    return np.array(states_batch)[condition], np.array(actions_batch)[condition]"
   ]
  },
  {
   "cell_type": "code",
   "execution_count": 6,
   "metadata": {},
   "outputs": [],
   "source": [
    "from IPython.display import clear_output\n",
    "\n",
    "def show_progress(rewards_batch, log, percentile, reward_range=[-990, +10]):\n",
    "    mean_reward = np.mean(rewards_batch)\n",
    "    threshold = np.percentile(rewards_batch, percentile)\n",
    "    log.append([mean_reward, threshold])\n",
    "    clear_output(True)\n",
    "    print(\"mean reward = %.3f, threshold=%.3f\" % (mean_reward, threshold))\n",
    "    plt.figure(figsize=[8, 4])\n",
    "    plt.subplot(1, 2, 1)\n",
    "    plt.plot(list(zip(*log))[0], label=\"Mean rewards\")\n",
    "    plt.plot(list(zip(*log))[1], label=\"Reward thresholds\")\n",
    "    plt.legend()\n",
    "    plt.grid()\n",
    "    plt.subplot(1, 2, 2)\n",
    "    plt.hist(rewards_batch, range=reward_range)\n",
    "    plt.vlines(\n",
    "        [np.percentile(rewards_batch, percentile)],\n",
    "        [0],\n",
    "        [100],\n",
    "        label=\"percentile\",\n",
    "        color=\"red\",\n",
    "    )\n",
    "    plt.legend()\n",
    "    plt.grid()\n",
    "    plt.show()\n"
   ]
  },
  {
   "cell_type": "code",
   "execution_count": 7,
   "metadata": {},
   "outputs": [],
   "source": [
    "percentile = 85\n",
    "log = []\n",
    "n_epochs = 80\n",
    "best_reward = -1e12\n",
    "worst_reward = 1e12"
   ]
  },
  {
   "cell_type": "code",
   "execution_count": 8,
   "metadata": {},
   "outputs": [
    {
     "name": "stderr",
     "output_type": "stream",
     "text": [
      "  0%|          | 0/80 [00:00<?, ?it/s]/usr/local/lib/python3.10/dist-packages/gym/utils/passive_env_checker.py:141: UserWarning: \u001b[33mWARN: The obs returned by the `step()` method was expecting numpy array dtype to be float32, actual type: float64\u001b[0m\n",
      "  logger.warn(\n",
      "/usr/local/lib/python3.10/dist-packages/gym/utils/passive_env_checker.py:165: UserWarning: \u001b[33mWARN: The obs returned by the `step()` method is not within the observation space.\u001b[0m\n",
      "  logger.warn(f\"{pre} is not within the observation space.\")\n"
     ]
    },
    {
     "ename": "",
     "evalue": "",
     "output_type": "error",
     "traceback": [
      "\u001b[1;31mThe Kernel crashed while executing code in the current cell or a previous cell. \n",
      "\u001b[1;31mPlease review the code in the cell(s) to identify a possible cause of the failure. \n",
      "\u001b[1;31mClick <a href='https://aka.ms/vscodeJupyterKernelCrash'>here</a> for more info. \n",
      "\u001b[1;31mView Jupyter <a href='command:jupyter.viewOutput'>log</a> for further details."
     ]
    }
   ],
   "source": [
    "%%time\n",
    "from torch.nn import CrossEntropyLoss\n",
    "from tqdm import tqdm\n",
    "criterion = CrossEntropyLoss()\n",
    "for i in tqdm(range(n_epochs)):\n",
    "    sessions = [generate_session(env, model) for _ in range(5)]\n",
    "    states_batch, actions_batch, rewards_batch = zip(*sessions)\n",
    "    elite_states, elite_actions = select_elites(states_batch, actions_batch, rewards_batch, percentile)\n",
    "    hidden = torch.zeros(1, len(elite_states), model.hidden_dim)\n",
    "    outps, _ = model(torch.FloatTensor(elite_states), hidden)\n",
    "    optimizer.zero_grad()\n",
    "    loss = criterion(outps.float(), torch.FloatTensor(elite_actions))\n",
    "    loss.backward()\n",
    "    optimizer.step()\n",
    "    mean = np.mean(rewards_batch)\n",
    "    if mean > best_reward:\n",
    "        best_reward = mean\n",
    "        torch.save(model.state_dict(), \"gru.pt\")\n",
    "    if mean < worst_reward:\n",
    "        worst_reward = mean\n",
    "    show_progress(\n",
    "        rewards_batch, log, percentile, reward_range=[worst_reward, best_reward]\n",
    "    )"
   ]
  },
  {
   "cell_type": "markdown",
   "metadata": {},
   "source": [
    "Я НЕ ПОНИМАЮ, в чем проблема. При генерации последней сессии ядро успешно падает"
   ]
  },
  {
   "cell_type": "markdown",
   "metadata": {},
   "source": []
  }
 ],
 "metadata": {
  "kernelspec": {
   "display_name": "Python 3 (ipykernel)",
   "language": "python",
   "name": "python3"
  },
  "language_info": {
   "codemirror_mode": {
    "name": "ipython",
    "version": 3
   },
   "file_extension": ".py",
   "mimetype": "text/x-python",
   "name": "python",
   "nbconvert_exporter": "python",
   "pygments_lexer": "ipython3",
   "version": "3.10.12"
  }
 },
 "nbformat": 4,
 "nbformat_minor": 4
}
