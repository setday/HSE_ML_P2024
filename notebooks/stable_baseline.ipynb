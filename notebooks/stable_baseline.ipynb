{
 "cells": [
  {
   "cell_type": "code",
   "execution_count": null,
   "metadata": {},
   "outputs": [],
   "source": [
    "%cd ..\n",
    "import gym\n",
    "import gym_game\n",
    "env = gym.make('Parkme')\n",
    "import warnings\n",
    "warnings.filterwarnings(\"ignore\")"
   ]
  },
  {
   "cell_type": "code",
   "execution_count": null,
   "metadata": {},
   "outputs": [],
   "source": [
    "from stable_baselines3 import PPO, DQN, A2C\n",
    "def load_model(model_type, policy_type, env, path=None):\n",
    "    if model_type == 'PPO':\n",
    "        model = PPO(policy_type, env, verbose=0)\n",
    "    elif model_type == 'DQN':\n",
    "        model = DQN(policy_type, env, verbose=0)\n",
    "    elif model_type == 'A2C':\n",
    "        model = A2C(policy_type, env, verbose=0)\n",
    "    if path is not None:\n",
    "        model.set_parameters(path)\n",
    "    return model"
   ]
  },
  {
   "cell_type": "code",
   "execution_count": null,
   "metadata": {},
   "outputs": [],
   "source": [
    "from tqdm import tqdm\n",
    "def train(model, n_epochs=30, total_timesteps=3000, path=None):\n",
    "    for _ in tqdm(range(n_epochs)):\n",
    "        model = model.learn(total_timesteps=total_timesteps)\n",
    "        if path is not None:\n",
    "            model.save(path)\n",
    "    return model    "
   ]
  },
  {
   "cell_type": "code",
   "execution_count": null,
   "metadata": {},
   "outputs": [],
   "source": [
    "model = load_model('PPO', 'MlpPolicy', env)\n",
    "model = train(model, path='models_bin/PPO', n_epochs=1, total_timesteps=3000000)"
   ]
  }
 ],
 "metadata": {
  "kernelspec": {
   "display_name": "Python 3",
   "language": "python",
   "name": "python3"
  },
  "language_info": {
   "codemirror_mode": {
    "name": "ipython",
    "version": 3
   },
   "file_extension": ".py",
   "mimetype": "text/x-python",
   "name": "python",
   "nbconvert_exporter": "python",
   "pygments_lexer": "ipython3",
   "version": "3.10.12"
  }
 },
 "nbformat": 4,
 "nbformat_minor": 2
}
