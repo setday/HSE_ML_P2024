{
 "cells": [
  {
   "cell_type": "code",
   "execution_count": 1,
   "metadata": {},
   "outputs": [
    {
     "name": "stdout",
     "output_type": "stream",
     "text": [
      "/home/yvovaa/fork/HSE_ML_P2024\n",
      "9 4\n"
     ]
    },
    {
     "name": "stderr",
     "output_type": "stream",
     "text": [
      "/usr/local/lib/python3.10/dist-packages/gym/utils/passive_env_checker.py:141: UserWarning: \u001b[33mWARN: The obs returned by the `reset()` method was expecting numpy array dtype to be float32, actual type: float64\u001b[0m\n",
      "  logger.warn(\n",
      "/usr/local/lib/python3.10/dist-packages/gym/utils/passive_env_checker.py:165: UserWarning: \u001b[33mWARN: The obs returned by the `reset()` method is not within the observation space.\u001b[0m\n",
      "  logger.warn(f\"{pre} is not within the observation space.\")\n"
     ]
    }
   ],
   "source": [
    "%cd ..\n",
    "import gym\n",
    "import gym_game\n",
    "import matplotlib.pyplot as plt\n",
    "env = gym.make('Parkme')\n",
    "reset, _ = env.reset()\n",
    "n_actions = env.action_space.n\n",
    "states_dim = env.observation_space.shape[0]\n",
    "print(n_actions, states_dim)"
   ]
  },
  {
   "cell_type": "code",
   "execution_count": 2,
   "metadata": {},
   "outputs": [],
   "source": [
    "from sklearn.neural_network import MLPClassifier\n",
    "import pickle\n",
    "def load_agent(path=None):\n",
    "    if path is None:\n",
    "        agent = MLPClassifier(\n",
    "            hidden_layer_sizes=(128, 64, 32),\n",
    "            activation='tanh',\n",
    "        )\n",
    "        return agent.partial_fit([reset] * n_actions, range(n_actions), range(n_actions))\n",
    "    with open(path, 'rb') as model:\n",
    "        return pickle.load(model)\n",
    "agent = load_agent()"
   ]
  },
  {
   "cell_type": "code",
   "execution_count": 3,
   "metadata": {},
   "outputs": [],
   "source": [
    "import numpy as np\n",
    "import random\n",
    "def generate_session(env, agent, exploration_rate=0.8):\n",
    "    states, actions = [], []\n",
    "    total_reward = 0\n",
    "    try:\n",
    "        s, _ = env.reset()\n",
    "    except IndexError:\n",
    "        env.close()\n",
    "        del env\n",
    "        env = gym.make('Parkme')\n",
    "        s, _ = env.reset()\n",
    "    for _ in range(3000):\n",
    "        if random.random() > exploration_rate:\n",
    "            action = np.random.choice(list(range(n_actions)))\n",
    "        else:\n",
    "            probs = agent.predict_proba([s])[0]\n",
    "            action = np.random.choice(list(range(n_actions)), p = probs)    \n",
    "        new_s, r, terminated, _, _ = env.step(action)\n",
    "        states.append(s)\n",
    "        actions.append(action)\n",
    "        total_reward += r\n",
    "\n",
    "        s = new_s\n",
    "        if terminated:\n",
    "            break\n",
    "    return states, actions, total_reward\n"
   ]
  },
  {
   "cell_type": "code",
   "execution_count": 4,
   "metadata": {},
   "outputs": [],
   "source": [
    "def select_elites(states_batch, actions_batch, rewards_batch, percentile):\n",
    "    reward_threshold = np.percentile(rewards_batch, percentile)\n",
    "    elite_states = []\n",
    "    elite_actions = []\n",
    "    for i in range(len(states_batch)):\n",
    "        if rewards_batch[i] >= reward_threshold:\n",
    "            elite_states.extend(states_batch[i])\n",
    "            elite_actions.extend(actions_batch[i])\n",
    "\n",
    "    return elite_states, elite_actions"
   ]
  },
  {
   "cell_type": "code",
   "execution_count": 5,
   "metadata": {},
   "outputs": [],
   "source": [
    "from IPython.display import clear_output\n",
    "\n",
    "def show_progress(rewards_batch, log, percentile, reward_range=[-990, +10]):\n",
    "    mean_reward = np.mean(rewards_batch)\n",
    "    threshold = np.percentile(rewards_batch, percentile)\n",
    "    log.append([mean_reward, threshold])\n",
    "    clear_output(True)\n",
    "    print(\"mean reward = %.3f, threshold=%.3f\" % (mean_reward, threshold))\n",
    "    plt.figure(figsize=[8, 4])\n",
    "    plt.subplot(1, 2, 1)\n",
    "    plt.plot(list(zip(*log))[0], label=\"Mean rewards\")\n",
    "    plt.plot(list(zip(*log))[1], label=\"Reward thresholds\")\n",
    "    plt.legend()\n",
    "    plt.grid()\n",
    "    plt.subplot(1, 2, 2)\n",
    "    plt.hist(rewards_batch, range=reward_range)\n",
    "    plt.vlines(\n",
    "        [np.percentile(rewards_batch, percentile)],\n",
    "        [0],\n",
    "        [100],\n",
    "        label=\"percentile\",\n",
    "        color=\"red\",\n",
    "    )\n",
    "    plt.legend()\n",
    "    plt.grid()\n",
    "    plt.show()\n"
   ]
  },
  {
   "cell_type": "code",
   "execution_count": 6,
   "metadata": {},
   "outputs": [],
   "source": [
    "extra_elit_states_m = []\n",
    "extra_elit_actions = []\n",
    "for i in range(1, 21):\n",
    "    with open(f'samples/obs{i}.txt', 'r') as file:\n",
    "        extra_elit_states_m.extend([[float(s) for s in sample[1:-2].split(', ')]for sample in file.readlines()])\n",
    "\n",
    "    with open(f'samples/act{i}.txt', 'r') as file:\n",
    "        extra_elit_actions.extend([int(s) for s in file.readlines()])\n",
    "extra_elit_states = np.array([[elem[0] - elem[4], elem[1] - elem[5], int(abs(elem[2] - elem[6])) % 180, elem[3]] for elem in extra_elit_states_m])    \n",
    "extra_elit_actions = np.array(extra_elit_actions)    \n",
    "for _ in range(100):\n",
    "    agent = agent.partial_fit(extra_elit_states, extra_elit_actions)"
   ]
  },
  {
   "cell_type": "code",
   "execution_count": 7,
   "metadata": {},
   "outputs": [],
   "source": [
    "percentile = 85\n",
    "log = []\n",
    "n_epochs = 80\n",
    "best_reward = -1e12\n",
    "worst_reward = 1e12"
   ]
  },
  {
   "cell_type": "code",
   "execution_count": 8,
   "metadata": {},
   "outputs": [
    {
     "name": "stdout",
     "output_type": "stream",
     "text": [
      "mean reward = 0.199, threshold=647.338\n"
     ]
    },
    {
     "data": {
      "image/png": "[encoded data removed]",
      "text/plain": [
       "<Figure size 800x400 with 2 Axes>"
      ]
     },
     "metadata": {},
     "output_type": "display_data"
    },
    {
     "name": "stderr",
     "output_type": "stream",
     "text": [
      " 56%|█████▋    | 45/80 [59:46<46:29, 79.70s/it]\n"
     ]
    },
    {
     "ename": "KeyboardInterrupt",
     "evalue": "",
     "output_type": "error",
     "traceback": [
      "\u001b[0;31m---------------------------------------------------------------------------\u001b[0m",
      "\u001b[0;31mKeyboardInterrupt\u001b[0m                         Traceback (most recent call last)",
      "File \u001b[0;32m<timed exec>:5\u001b[0m\n",
      "File \u001b[0;32m<timed exec>:5\u001b[0m, in \u001b[0;36m<listcomp>\u001b[0;34m(.0)\u001b[0m\n",
      "Cell \u001b[0;32mIn[3], line 19\u001b[0m, in \u001b[0;36mgenerate_session\u001b[0;34m(env, agent, exploration_rate)\u001b[0m\n\u001b[1;32m     17\u001b[0m     probs \u001b[38;5;241m=\u001b[39m agent\u001b[38;5;241m.\u001b[39mpredict_proba([s])[\u001b[38;5;241m0\u001b[39m]\n\u001b[1;32m     18\u001b[0m     action \u001b[38;5;241m=\u001b[39m np\u001b[38;5;241m.\u001b[39mrandom\u001b[38;5;241m.\u001b[39mchoice(\u001b[38;5;28mlist\u001b[39m(\u001b[38;5;28mrange\u001b[39m(n_actions)), p \u001b[38;5;241m=\u001b[39m probs)    \n\u001b[0;32m---> 19\u001b[0m new_s, r, terminated, _, _ \u001b[38;5;241m=\u001b[39m \u001b[43menv\u001b[49m\u001b[38;5;241;43m.\u001b[39;49m\u001b[43mstep\u001b[49m\u001b[43m(\u001b[49m\u001b[43maction\u001b[49m\u001b[43m)\u001b[49m\n\u001b[1;32m     20\u001b[0m states\u001b[38;5;241m.\u001b[39mappend(s)\n\u001b[1;32m     21\u001b[0m actions\u001b[38;5;241m.\u001b[39mappend(action)\n",
      "File \u001b[0;32m/usr/local/lib/python3.10/dist-packages/gym/wrappers/time_limit.py:50\u001b[0m, in \u001b[0;36mTimeLimit.step\u001b[0;34m(self, action)\u001b[0m\n\u001b[1;32m     39\u001b[0m \u001b[38;5;28;01mdef\u001b[39;00m \u001b[38;5;21mstep\u001b[39m(\u001b[38;5;28mself\u001b[39m, action):\n\u001b[1;32m     40\u001b[0m \u001b[38;5;250m    \u001b[39m\u001b[38;5;124;03m\"\"\"Steps through the environment and if the number of steps elapsed exceeds ``max_episode_steps`` then truncate.\u001b[39;00m\n\u001b[1;32m     41\u001b[0m \n\u001b[1;32m     42\u001b[0m \u001b[38;5;124;03m    Args:\u001b[39;00m\n\u001b[0;32m   (...)\u001b[0m\n\u001b[1;32m     48\u001b[0m \n\u001b[1;32m     49\u001b[0m \u001b[38;5;124;03m    \"\"\"\u001b[39;00m\n\u001b[0;32m---> 50\u001b[0m     observation, reward, terminated, truncated, info \u001b[38;5;241m=\u001b[39m \u001b[38;5;28;43mself\u001b[39;49m\u001b[38;5;241;43m.\u001b[39;49m\u001b[43menv\u001b[49m\u001b[38;5;241;43m.\u001b[39;49m\u001b[43mstep\u001b[49m\u001b[43m(\u001b[49m\u001b[43maction\u001b[49m\u001b[43m)\u001b[49m\n\u001b[1;32m     51\u001b[0m     \u001b[38;5;28mself\u001b[39m\u001b[38;5;241m.\u001b[39m_elapsed_steps \u001b[38;5;241m+\u001b[39m\u001b[38;5;241m=\u001b[39m \u001b[38;5;241m1\u001b[39m\n\u001b[1;32m     53\u001b[0m     \u001b[38;5;28;01mif\u001b[39;00m \u001b[38;5;28mself\u001b[39m\u001b[38;5;241m.\u001b[39m_elapsed_steps \u001b[38;5;241m>\u001b[39m\u001b[38;5;241m=\u001b[39m \u001b[38;5;28mself\u001b[39m\u001b[38;5;241m.\u001b[39m_max_episode_steps:\n",
      "File \u001b[0;32m/usr/local/lib/python3.10/dist-packages/gym/wrappers/order_enforcing.py:37\u001b[0m, in \u001b[0;36mOrderEnforcing.step\u001b[0;34m(self, action)\u001b[0m\n\u001b[1;32m     35\u001b[0m \u001b[38;5;28;01mif\u001b[39;00m \u001b[38;5;129;01mnot\u001b[39;00m \u001b[38;5;28mself\u001b[39m\u001b[38;5;241m.\u001b[39m_has_reset:\n\u001b[1;32m     36\u001b[0m     \u001b[38;5;28;01mraise\u001b[39;00m ResetNeeded(\u001b[38;5;124m\"\u001b[39m\u001b[38;5;124mCannot call env.step() before calling env.reset()\u001b[39m\u001b[38;5;124m\"\u001b[39m)\n\u001b[0;32m---> 37\u001b[0m \u001b[38;5;28;01mreturn\u001b[39;00m \u001b[38;5;28;43mself\u001b[39;49m\u001b[38;5;241;43m.\u001b[39;49m\u001b[43menv\u001b[49m\u001b[38;5;241;43m.\u001b[39;49m\u001b[43mstep\u001b[49m\u001b[43m(\u001b[49m\u001b[43maction\u001b[49m\u001b[43m)\u001b[49m\n",
      "File \u001b[0;32m/usr/local/lib/python3.10/dist-packages/gym/wrappers/env_checker.py:39\u001b[0m, in \u001b[0;36mPassiveEnvChecker.step\u001b[0;34m(self, action)\u001b[0m\n\u001b[1;32m     37\u001b[0m     \u001b[38;5;28;01mreturn\u001b[39;00m env_step_passive_checker(\u001b[38;5;28mself\u001b[39m\u001b[38;5;241m.\u001b[39menv, action)\n\u001b[1;32m     38\u001b[0m \u001b[38;5;28;01melse\u001b[39;00m:\n\u001b[0;32m---> 39\u001b[0m     \u001b[38;5;28;01mreturn\u001b[39;00m \u001b[38;5;28;43mself\u001b[39;49m\u001b[38;5;241;43m.\u001b[39;49m\u001b[43menv\u001b[49m\u001b[38;5;241;43m.\u001b[39;49m\u001b[43mstep\u001b[49m\u001b[43m(\u001b[49m\u001b[43maction\u001b[49m\u001b[43m)\u001b[49m\n",
      "File \u001b[0;32m~/fork/HSE_ML_P2024/gym_game/envs/CustomEnv.py:36\u001b[0m, in \u001b[0;36mCustomEnv.step\u001b[0;34m(self, action)\u001b[0m\n\u001b[1;32m     35\u001b[0m \u001b[38;5;28;01mdef\u001b[39;00m \u001b[38;5;21mstep\u001b[39m(\u001b[38;5;28mself\u001b[39m, action):\n\u001b[0;32m---> 36\u001b[0m     \u001b[38;5;28;43mself\u001b[39;49m\u001b[38;5;241;43m.\u001b[39;49m\u001b[43mgame\u001b[49m\u001b[38;5;241;43m.\u001b[39;49m\u001b[43maction\u001b[49m\u001b[43m(\u001b[49m\u001b[43maction\u001b[49m\u001b[43m)\u001b[49m\n\u001b[1;32m     37\u001b[0m     obs \u001b[38;5;241m=\u001b[39m \u001b[38;5;28mself\u001b[39m\u001b[38;5;241m.\u001b[39mgame\u001b[38;5;241m.\u001b[39mobserve()\n\u001b[1;32m     38\u001b[0m     reward \u001b[38;5;241m=\u001b[39m \u001b[38;5;28mself\u001b[39m\u001b[38;5;241m.\u001b[39mgame\u001b[38;5;241m.\u001b[39mevaluate()\n",
      "File \u001b[0;32m~/fork/HSE_ML_P2024/gym_game/envs/Game.py:61\u001b[0m, in \u001b[0;36mGame.action\u001b[0;34m(self, action)\u001b[0m\n\u001b[1;32m     50\u001b[0m \u001b[38;5;66;03m# 5 is left-forward\u001b[39;00m\n\u001b[1;32m     51\u001b[0m \u001b[38;5;66;03m# 6 is right-forward\u001b[39;00m\n\u001b[1;32m     52\u001b[0m \u001b[38;5;66;03m# 7 is left-back\u001b[39;00m\n\u001b[1;32m     53\u001b[0m \u001b[38;5;66;03m# 8 is right-back\u001b[39;00m\n\u001b[1;32m     54\u001b[0m controller\u001b[38;5;241m.\u001b[39mkeyboard \u001b[38;5;241m=\u001b[39m {\n\u001b[1;32m     55\u001b[0m     arcade\u001b[38;5;241m.\u001b[39mkey\u001b[38;5;241m.\u001b[39mLEFT: action \u001b[38;5;241m==\u001b[39m \u001b[38;5;241m0\u001b[39m \u001b[38;5;129;01mor\u001b[39;00m action \u001b[38;5;241m==\u001b[39m \u001b[38;5;241m5\u001b[39m \u001b[38;5;129;01mor\u001b[39;00m action \u001b[38;5;241m==\u001b[39m \u001b[38;5;241m7\u001b[39m,\n\u001b[1;32m     56\u001b[0m     arcade\u001b[38;5;241m.\u001b[39mkey\u001b[38;5;241m.\u001b[39mRIGHT: action \u001b[38;5;241m==\u001b[39m \u001b[38;5;241m1\u001b[39m \u001b[38;5;129;01mor\u001b[39;00m action \u001b[38;5;241m==\u001b[39m \u001b[38;5;241m6\u001b[39m \u001b[38;5;129;01mor\u001b[39;00m action \u001b[38;5;241m==\u001b[39m \u001b[38;5;241m8\u001b[39m,\n\u001b[0;32m   (...)\u001b[0m\n\u001b[1;32m     59\u001b[0m     arcade\u001b[38;5;241m.\u001b[39mkey\u001b[38;5;241m.\u001b[39mF: action \u001b[38;5;241m==\u001b[39m \u001b[38;5;241m4\u001b[39m,\n\u001b[1;32m     60\u001b[0m }\n\u001b[0;32m---> 61\u001b[0m \u001b[38;5;28;43mself\u001b[39;49m\u001b[38;5;241;43m.\u001b[39;49m\u001b[43mcore\u001b[49m\u001b[38;5;241;43m.\u001b[39;49m\u001b[43mscene\u001b[49m\u001b[38;5;241;43m.\u001b[39;49m\u001b[43mupdate\u001b[49m\u001b[43m(\u001b[49m\u001b[43mcontroller\u001b[49m\u001b[43m,\u001b[49m\u001b[43m \u001b[49m\u001b[38;5;241;43m1\u001b[39;49m\u001b[43m \u001b[49m\u001b[38;5;241;43m/\u001b[39;49m\u001b[43m \u001b[49m\u001b[38;5;241;43m60\u001b[39;49m\u001b[43m)\u001b[49m\n\u001b[1;32m     62\u001b[0m \u001b[38;5;28mself\u001b[39m\u001b[38;5;241m.\u001b[39mtime \u001b[38;5;241m*\u001b[39m\u001b[38;5;241m=\u001b[39m \u001b[38;5;241m1.01\u001b[39m\n",
      "File \u001b[0;32m~/fork/HSE_ML_P2024/src/game_engine/scenes/game_scene/GameScene.py:318\u001b[0m, in \u001b[0;36mGameScene.update\u001b[0;34m(self, io_controller, delta_time)\u001b[0m\n\u001b[1;32m    314\u001b[0m     car\u001b[38;5;241m.\u001b[39mcontrolling(keys)\n\u001b[1;32m    316\u001b[0m delta_time \u001b[38;5;241m*\u001b[39m\u001b[38;5;241m=\u001b[39m \u001b[38;5;241m16\u001b[39m\n\u001b[0;32m--> 318\u001b[0m \u001b[38;5;28;43mself\u001b[39;49m\u001b[38;5;241;43m.\u001b[39;49m\u001b[43mspace\u001b[49m\u001b[38;5;241;43m.\u001b[39;49m\u001b[43mstep\u001b[49m\u001b[43m(\u001b[49m\u001b[43mdelta_time\u001b[49m\u001b[43m)\u001b[49m\n\u001b[1;32m    320\u001b[0m \u001b[38;5;28;01mfor\u001b[39;00m car \u001b[38;5;129;01min\u001b[39;00m \u001b[38;5;28mself\u001b[39m\u001b[38;5;241m.\u001b[39mcars:\n\u001b[1;32m    321\u001b[0m     car\u001b[38;5;241m.\u001b[39mapply_friction()\n",
      "File \u001b[0;32m/usr/local/lib/python3.10/dist-packages/pymunk/space.py:584\u001b[0m, in \u001b[0;36mSpace.step\u001b[0;34m(self, dt)\u001b[0m\n\u001b[1;32m    582\u001b[0m         cp\u001b[38;5;241m.\u001b[39mcpHastySpaceStep(\u001b[38;5;28mself\u001b[39m\u001b[38;5;241m.\u001b[39m_space, dt)\n\u001b[1;32m    583\u001b[0m     \u001b[38;5;28;01melse\u001b[39;00m:\n\u001b[0;32m--> 584\u001b[0m         \u001b[43mcp\u001b[49m\u001b[38;5;241;43m.\u001b[39;49m\u001b[43mcpSpaceStep\u001b[49m\u001b[43m(\u001b[49m\u001b[38;5;28;43mself\u001b[39;49m\u001b[38;5;241;43m.\u001b[39;49m\u001b[43m_space\u001b[49m\u001b[43m,\u001b[49m\u001b[43m \u001b[49m\u001b[43mdt\u001b[49m\u001b[43m)\u001b[49m\n\u001b[1;32m    585\u001b[0m     \u001b[38;5;28mself\u001b[39m\u001b[38;5;241m.\u001b[39m_removed_shapes \u001b[38;5;241m=\u001b[39m {}\n\u001b[1;32m    586\u001b[0m \u001b[38;5;28;01mfinally\u001b[39;00m:\n",
      "\u001b[0;31mKeyboardInterrupt\u001b[0m: "
     ]
    }
   ],
   "source": [
    "%%time\n",
    "from tqdm import tqdm\n",
    "from joblib import parallel_backend\n",
    "\n",
    "for i in tqdm(range(n_epochs)):\n",
    "    sessions = [generate_session(env, agent) for _ in range(100)]\n",
    "    states_batch, actions_batch, rewards_batch = zip(*sessions)\n",
    "    elite_states, elite_actions = select_elites(states_batch, actions_batch, rewards_batch, percentile)\n",
    "    # random_indices = np.random.choice(len(extra_elit_actions), 5000, replace=False)\n",
    "    # elite_states.extend(extra_elit_states[random_indices])\n",
    "    # elite_actions.extend(extra_elit_actions[random_indices])\n",
    "    with parallel_backend('loky', n_jobs=-1):\n",
    "        agent = agent.partial_fit(elite_states, elite_actions)\n",
    "        agent = agent.partial_fit(extra_elit_states, extra_elit_actions)\n",
    "    mean = np.mean(rewards_batch)\n",
    "    if mean > best_reward:\n",
    "        with open('models_bin/CEM8.pkl', 'wb') as model:\n",
    "            pickle.dump(agent, model)\n",
    "        best_reward = mean\n",
    "    worst_reward = min(worst_reward, mean)\n",
    "    show_progress(\n",
    "        rewards_batch, log, percentile, reward_range=[worst_reward, best_reward]\n",
    "    )"
   ]
  },
  {
   "cell_type": "code",
   "execution_count": null,
   "metadata": {},
   "outputs": [
    {
     "name": "stdout",
     "output_type": "stream",
     "text": [
      "-1000000000000.0\n"
     ]
    }
   ],
   "source": [
    "print(best_reward)"
   ]
  },
  {
   "cell_type": "code",
   "execution_count": null,
   "metadata": {},
   "outputs": [],
   "source": [
    "# import pickle\n",
    "# with open('models_bin/CE.pkl', 'wb') as file:\n",
    "#     pickle.dump(agent, file)"
   ]
  },
  {
   "cell_type": "markdown",
   "metadata": {},
   "source": [
    "Стоило бы конечно записывать\n",
    "1) Первый вариант - уже даже не помню, что там было, но ничего хорошего\n",
    "2) Второй вариант - та же нейронка, что и в 4, награда - расстояние * разность углов + мелочь\n",
    "3) Третий вариант - какая-то слабая модификация второго\n",
    "4) Четвертый вариант - один скрытый слой 128 нейронов, тангенс, 8 сэмплов, награда такая: \n",
    "`-` dst - (int(abs(car_angle - pp_angle)) % 180) / (dst + 0.01)+ self.core.scene.car_m.health / 100 - self.time + self.core.scene.car_m.is_car_parked * 1000\n",
    "Подозреваю, что нужна сеть побольше. Во время создания искуственных сессий понял, что надо делать не больше нескольких тысяч степов (об этом можно было додуматься и логически, вспомнив, что fps у нас 60 кадров, но я почему-то этого не сделал)\n",
    "5) Пятый вариант - два скрытых слоя (128, 64), сигмоида, 20 семплов, награда та же, только деленная на 100. 355825.87054126075 - лучшая\n",
    "\n",
    "Но все таки скорее всего дело в неправильной награде, потому что уж stable baselines должны были бы обучиться (наверное), хотя мб там какие нибудь взрывающиеся градиенты из-за того, что порядок награды несколько милиардов (но вообще лосс не по награде считается, так что вряд ли). На 5 эпохе вышла на плато - выучила стоять на месте. Очень грустно, прям плакать хочется)))\n",
    "\n",
    "6) Почему-то мне хочется тангенс, добавил скрытый слой 32 нейрона. За 280 эпох модель ничему не научилась\n",
    "\n",
    "Самый перспективный вариант - второй, там машинка научилась поворачивать на нужный угол, но почему-то не приближаться к парковке\n",
    "\n",
    "Думаю, что придется отказаться от этой идеи... Каждое маленькое действие слишком незначимо относительно общей награды, модель просто не может, совершая на начальных этапах обучения рандомные действия, пробиться к нормальной награде. Надо использовать Q-learning, который считает полезность каждого действия.\n",
    "\n",
    "Единственное, что ВОЗМОЖНО будет работать - это сначала обучать модель на вручную созданных сессиях, но этих сессий может понадобиться очень-очень много..."
   ]
  },
  {
   "cell_type": "markdown",
   "metadata": {},
   "source": [
    "Последняя идея - взять модель поумнее, например GRU. Чего-то не получается :(\n",
    "\n",
    "По причине совершенно непонятных мне падений ядра CEM7 - с другой информацией о среде: разность координат, углов и скорость. Толку никакого. Хватит уже тратить на это время"
   ]
  },
  {
   "cell_type": "markdown",
   "metadata": {},
   "source": []
  }
 ],
 "metadata": {
  "kernelspec": {
   "display_name": "base",
   "language": "python",
   "name": "python3"
  },
  "language_info": {
   "codemirror_mode": {
    "name": "ipython",
    "version": 3
   },
   "file_extension": ".py",
   "mimetype": "text/x-python",
   "name": "python",
   "nbconvert_exporter": "python",
   "pygments_lexer": "ipython3",
   "version": "3.10.12"
  }
 },
 "nbformat": 4,
 "nbformat_minor": 2
}
