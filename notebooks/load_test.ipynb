{
 "cells": [
  {
   "cell_type": "markdown",
   "metadata": {},
   "source": [
    "Зависимость fps от числа объектов одного и того же типа на сцене:"
   ]
  },
  {
   "cell_type": "code",
   "execution_count": 2,
   "metadata": {},
   "source": [
    "%cd ..\n",
    "import pandas as pd\n",
    "import matplotlib.pyplot as plt\n",
    "from os import listdir\n",
    "from os.path import isfile, join\n",
    "\n",
    "for path in [\n",
    "    join(\"results\", file)\n",
    "    for file in listdir(\"results\")\n",
    "    if isfile(join(\"results\", file))\n",
    "]:\n",
    "    df = pd.read_csv(path)\n",
    "    plt.plot(\n",
    "        df[\"num_obj\"], df[\"fps\"], label=path[path.rfind(\"/\") + 1 : path.rfind(\".\")]\n",
    "    )\n",
    "    plt.legend()"
   ],
   "outputs": []
  },
  {
   "cell_type": "markdown",
   "metadata": {},
   "source": [
    "Выглядит странновато (непонятно, почему зависимость не строго убывающая например), но отражает действительность: на глаз при запуске всего этого дела лагов больше всего при отрисовке машины. Возможно это связано с размером"
   ]
  },
  {
   "cell_type": "code",
   "execution_count": 3,
   "metadata": {},
   "source": [
    "df = pd.read_csv(\"results/graphicscar.csv\")\n",
    "plt.plot(df[\"num_obj\"], df[\"fps\"], label=\"graphics only\")\n",
    "df = pd.read_csv(\"results/physics_car.csv\")\n",
    "plt.plot(df[\"num_obj\"], df[\"fps\"], label=\"physics only\")\n",
    "plt.legend()\n",
    "plt.show()"
   ],
   "outputs": []
  },
  {
   "cell_type": "code",
   "execution_count": 8,
   "metadata": {},
   "source": [
    "for path in [\n",
    "    join(\"results\", file)\n",
    "    for file in listdir(\"results\")\n",
    "    if isfile(join(\"results\", file)) and len(str(file)) > 20\n",
    "]:\n",
    "    df = pd.read_csv(path)\n",
    "    plt.plot(df[\"num_obj\"], df[\"fps\"], label=path[path.rfind(\"/\") + 1 : path.find(\"_\")])\n",
    "    plt.legend()"
   ],
   "outputs": []
  }
 ],
 "metadata": {
  "kernelspec": {
   "display_name": "Python 3",
   "language": "python",
   "name": "python3"
  },
  "language_info": {
   "codemirror_mode": {
    "name": "ipython",
    "version": 3
   },
   "file_extension": ".py",
   "mimetype": "text/x-python",
   "name": "python",
   "nbconvert_exporter": "python",
   "pygments_lexer": "ipython3",
   "version": "3.10.12"
  }
 },
 "nbformat": 4,
 "nbformat_minor": 2
}
